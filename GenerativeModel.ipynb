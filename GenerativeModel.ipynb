{
 "cells": [
  {
   "cell_type": "code",
   "execution_count": 1,
   "metadata": {},
   "outputs": [],
   "source": [
    "f = open(\"dracula.txt\", encoding='utf-8')\n",
    "quotes = f.read().lower().replace('\\n', ' ').replace(',', ' ').replace(':',' ').split(' ')"
   ]
  },
  {
   "cell_type": "code",
   "execution_count": 2,
   "metadata": {},
   "outputs": [],
   "source": [
    "unigrams = []\n",
    "bigrams = []\n",
    "trigrams = []\n",
    "quadgrams = []\n",
    "\n",
    "for i in range(len(quotes)):\n",
    "    unigrams.append(quotes[i])\n",
    "    bigrams.append(' '.join(quotes[i:i + 2]))\n",
    "    trigrams.append(' '.join(quotes[i:i + 3]))\n",
    "    quadgrams.append(' '.join(quotes[i:i + 4]))"
   ]
  },
  {
   "cell_type": "code",
   "execution_count": 3,
   "metadata": {},
   "outputs": [],
   "source": [
    "unidict = {}\n",
    "bidict = {}\n",
    "tridict = {}\n",
    "quadict = {}\n",
    "\n",
    "for i in unigrams:\n",
    "    unidict[i] = unidict.get(i, 0) + 1\n",
    "    \n",
    "for i in bigrams:\n",
    "    bidict[i] = bidict.get(i, 0) + 1\n",
    "\n",
    "for i in trigrams:\n",
    "    tridict[i] = tridict.get(i, 0) + 1\n",
    "\n",
    "for i in quadgrams:\n",
    "    quadict[i] = quadict.get(i, 0) + 1"
   ]
  },
  {
   "cell_type": "code",
   "execution_count": 4,
   "metadata": {},
   "outputs": [],
   "source": [
    "def calc_uni_prob(unigram):\n",
    "    return unidict.get(unigram, 1) / len(unigrams)\n",
    "\n",
    "def calc_bi_prob(bigram):\n",
    "    return bidict.get(bigram, 1) / unidict.get(bigram[:-1], 1)\n",
    "\n",
    "def calc_tri_prob(trigram):\n",
    "    return tridict.get(trigram, 1) / bidict.get(trigram[:-1], 1)\n",
    "\n",
    "def calc_quad_prob(quadgram):\n",
    "    return quadict.get(quadgram, 1) / tridict.get(quadgram[:-1], 1)"
   ]
  },
  {
   "cell_type": "code",
   "execution_count": 5,
   "metadata": {},
   "outputs": [],
   "source": [
    "def next_quadgram(quadgram):\n",
    "    trigram = ' '.join(quadgram.split(' ')[-3:])\n",
    "    candidates = list(filter(lambda x : x.startswith(trigram), quadict))\n",
    "    maxprob = 0.0\n",
    "    maxquadgram = ''\n",
    "    for i in candidates:\n",
    "        prob = calc_quad_prob(i)\n",
    "        if prob > maxprob:\n",
    "            maxprob = prob\n",
    "            maxquadgram = i\n",
    "    return i"
   ]
  },
  {
   "cell_type": "code",
   "execution_count": 8,
   "metadata": {},
   "outputs": [
    {
     "name": "stdout",
     "output_type": "stream",
     "text": [
      "smoothest voice as he opened the he said  \"here you will be in shelter; and if the wolves do come i can meet them one by one.\" he brought in our furs  and made a snug nest for me  i forget all of watching; and when i sudden remember that i watch  i find in a high key of passion; the other mr. morris' strong resolute tone of quiet command. the gypsies may not have known the language  but there are fair days yet in store. what say you?\"  whilst he fitted a key to the lock. this he finally handed to lord godalming telegraphed request  asking us to show them any civility in their power. they were more than kind and courteous  and took us at once on board the _czarina catherine_ made a phenomenally quick journey--so much so that captain donelson's suspicions were aroused; but his superstition united with his canniness played the count's game for him  or for myself. i write this whilst we wait the wind came now with fiercer and more bitter sweeps  and more steadily from the north. it seemingly had driven the snow clouds from us  for  smiled at me and said softly --  \"oh no! far be it from me to arrogate to myself the attributes of the deity. i am not worthy in his sight. alas! i am unclean to his eyes  on my forehead  she crossed herself and put out two fingers towards me  to keep off the evil eye. i believe they went to the trouble of putting an extra amount of garlic into our food; and i can't abide garlic. ever since then i have taken it  and turning to his employers  made some remark. lord godalming smiled  and said solemnly --  \"i'm only a rough fellow  who hasn't  perhaps  lived as a man should to win such a distinction  but i of sweet woman and have a special power which the count give her  and said solemnly --  \"i'm only a rough fellow  who hasn't  perhaps  lived as a man should to win such a distinction  but i of sweet woman and have a special power which the count give her  and said solemnly --  \"i'm only a rough fellow  who hasn't  perhaps  lived as a man should to win such a distinction  but i of sweet woman and have a special power which the count give her  and said solemnly --  \"i'm only a rough fellow  who hasn't  perhaps  lived as a man should to win such a distinction  but i of sweet woman and have a special power which the count give her  and said solemnly --  \"i'm only a rough fellow  who hasn't  perhaps  lived as a man should to win "
     ]
    }
   ],
   "source": [
    "import random\n",
    "\n",
    "\n",
    "seed = random.choice(quadgrams)\n",
    "print(seed, end=' ')\n",
    "\n",
    "nextquadgram = seed\n",
    "for i in range(500):\n",
    "    nextquadgram = next_quadgram(nextquadgram)\n",
    "    print(nextquadgram.split(' ')[-1:][0], end=' ')\n",
    "    "
   ]
  },
  {
   "cell_type": "code",
   "execution_count": null,
   "metadata": {},
   "outputs": [],
   "source": []
  }
 ],
 "metadata": {
  "kernelspec": {
   "display_name": "Python 3",
   "language": "python",
   "name": "python3"
  },
  "language_info": {
   "codemirror_mode": {
    "name": "ipython",
    "version": 3
   },
   "file_extension": ".py",
   "mimetype": "text/x-python",
   "name": "python",
   "nbconvert_exporter": "python",
   "pygments_lexer": "ipython3",
   "version": "3.6.5"
  }
 },
 "nbformat": 4,
 "nbformat_minor": 2
}
